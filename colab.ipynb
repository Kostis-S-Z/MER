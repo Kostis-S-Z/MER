{
 "cells": [
  {
   "cell_type": "code",
   "execution_count": null,
   "metadata": {
    "collapsed": true
   },
   "outputs": [],
   "source": [
    "%cd MER\n",
    "!pip install torch==0.3.1 -c\n",
    "!pip install cython\n",
    "!pip install --user -r requirements.txt\n",
    "!python get_data.py rotations\n",
    "\n",
    "# MER (Algorithm 6) With 500 Memories\n",
    "!python main.py --n_layers 2 --n_hiddens 100 --data_path data/ --save_path results/ --batch_size 1 --log_every 100 --samples_per_task 1000 --data_file mnist_rotations.pt    --cuda no  --seed 0 --model meralg6 --lr 0.1 --gamma 0.03 --memories 500 --replay_batch_size 10\n"
   ]
  }
 ],
 "metadata": {
  "kernelspec": {
   "display_name": "Python 2",
   "language": "python",
   "name": "python2"
  },
  "language_info": {
   "codemirror_mode": {
    "name": "ipython",
    "version": 2
   },
   "file_extension": ".py",
   "mimetype": "text/x-python",
   "name": "python",
   "nbconvert_exporter": "python",
   "pygments_lexer": "ipython2",
   "version": "2.7.6"
  }
 },
 "nbformat": 4,
 "nbformat_minor": 0
}
